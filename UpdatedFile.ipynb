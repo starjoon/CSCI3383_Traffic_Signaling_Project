{
 "cells": [
  {
   "cell_type": "code",
   "execution_count": 1,
   "metadata": {},
   "outputs": [],
   "source": [
    "import matplotlib as plt\n",
    "import math\n",
    "import random"
   ]
  },
  {
   "cell_type": "code",
   "execution_count": null,
   "metadata": {},
   "outputs": [
    {
     "name": "stdout",
     "output_type": "stream",
     "text": [
      "8000\n"
     ]
    }
   ],
   "source": [
    "\n",
    "# stores information of each street\n",
    "class Street:\n",
    "\n",
    "    def __init__(self, startNode, endNode, length):\n",
    "        self.attributes = {}\n",
    "        self.attributes['start'] = startNode\n",
    "        self.attributes['end'] = endNode\n",
    "        self.attributes['length'] = length\n",
    "\n",
    "    def __str__(self):\n",
    "        return str(self.attributes)\n",
    "\n",
    "    def set(self, key, value):\n",
    "        self.attributes[key] = value\n",
    "\n",
    "    def get(self, key):\n",
    "        return self.attributes[key]\n",
    "\n",
    "\n",
    "# stores information for each car and its path\n",
    "class Car:\n",
    "    def __init__(self, pathLength, path):\n",
    "        self.attributes = {}\n",
    "        self.attributes['pathLength'] = pathLength\n",
    "        self.attributes['path'] = path\n",
    "\n",
    "    def __str__(self):\n",
    "        return str(self.attributes)\n",
    "\n",
    "    def set(self, key, value):\n",
    "        self.attributes[key] = value\n",
    "\n",
    "    def get(self, key):\n",
    "        return self.attributes[key]\n",
    "\n",
    "\n",
    "# This placed all the car paths and streets in hashcode.in into dictionary/list\n",
    "# eg) streets: 'a-e' --> Street(0, 4, 40) & cars: Car(4, 'a-e e-f f-d d-b')\n",
    "with open('hashcode.in') as f:\n",
    "    lines = f.readlines()\n",
    "duration, numNodes, numStreets, numCars, bonus = [\n",
    "    int(x) for x in lines.pop(0).split()]\n",
    "print(numNodes)\n",
    "\n",
    "streets = {}\n",
    "for _ in range(numStreets):\n",
    "    line = lines.pop(0).split()\n",
    "    start = int(line[0])\n",
    "    end = int(line[1])\n",
    "    street_name = line[2]\n",
    "    length = int(line[-1])\n",
    "    streets[street_name] = Street(start, end, length)\n",
    "\n",
    "cars = []\n",
    "for _ in range(numCars):\n",
    "    line = lines.pop(0).split()\n",
    "    pathLength = int(line[0])\n",
    "    path = line[1:]\n",
    "    cars.append(Car(pathLength, path))\n",
    "\n",
    "\n",
    "\n",
    "#initialize a distance table that can put distances from one street to another\n",
    "table=[[math.inf for i in range(numNodes)] for j in range(numNodes)]  \n",
    "\n",
    "#This populates the full-sized sample.\n",
    "for i in range(len(cars)):\n",
    "    for j in range(len(cars[i].get('path'))):\n",
    "        if i==j:\n",
    "            table[i][j]=0\n",
    "        else:\n",
    "            table[streets[cars[i].get('path')[j]].get('start')][streets[cars[i].get('path')[j]].get('end')]=streets[cars[i].get('path')[j]].get('length')\n",
    "\n",
    "\n",
    "#for i in range(100):\n",
    "#    for j in range(100):\n",
    "#        table[i][j]=random.randint(-51,51)\n",
    "  \n",
    "    \n",
    "#This is just the floyd warshall algorithm\n",
    "for i in range(numNodes):\n",
    "    for j in range(numNodes):\n",
    "        for k in range(numNodes):\n",
    "            if table[j][k]>table[j][i]+table[i][k]:\n",
    "                table[j][k]==table[j][i]+table[i][k]\n",
    "\n",
    "\n",
    "        \n",
    "    \n",
    "\n"
   ]
  },
  {
   "cell_type": "code",
   "execution_count": null,
   "metadata": {},
   "outputs": [],
   "source": []
  },
  {
   "cell_type": "code",
   "execution_count": null,
   "metadata": {},
   "outputs": [],
   "source": []
  }
 ],
 "metadata": {
  "kernelspec": {
   "display_name": "Python 3",
   "language": "python",
   "name": "python3"
  },
  "language_info": {
   "codemirror_mode": {
    "name": "ipython",
    "version": 3
   },
   "file_extension": ".py",
   "mimetype": "text/x-python",
   "name": "python",
   "nbconvert_exporter": "python",
   "pygments_lexer": "ipython3",
   "version": "3.8.5"
  }
 },
 "nbformat": 4,
 "nbformat_minor": 4
}
